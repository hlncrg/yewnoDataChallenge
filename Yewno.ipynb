{
 "cells": [
  {
   "cell_type": "markdown",
   "metadata": {},
   "source": [
    "#Yewno Data Challenge\n",
    "##Helen Craig\n",
    "##Jan 14, 2015\n",
    "You are given a realworld\n",
    "undirected semantic graph represented via an adjacency matrix\n",
    "wherein links encode similarity between concepts. You are asked to explore the ( emerging )\n",
    "properties of such a graph (aka network ) in terms of its embedding on a surface with a given\n",
    "genus by using the techniques provided in the references attached [<a href=\"Exploring_complex_networks_via_embedding_on_surfaces.pdf\">1</a> ,<a href=\"Random_and_frozen_states_in_complex_triangulations.pdf\">2</a>]. You are also asked to\n",
    "infer potential connections between properties of hyperbolic embeddings and semantic\n",
    "information hidden in the network."
   ]
  },
  {
   "cell_type": "markdown",
   "metadata": {},
   "source": [
    "##Paper Summary\n",
    "In the two papers given as reference, the authors explore complex networks by modeling the system as a statistical mechanical description and manipulate the system via a 'temperature'.\n",
    "\n",
    "##Reproducing Results\n",
    "The following code reproduces some of the methods used in the above mentioned papers:"
   ]
  },
  {
   "cell_type": "code",
   "execution_count": 2,
   "metadata": {
    "collapsed": true
   },
   "outputs": [],
   "source": [
    "import csv\n",
    "import math\n",
    "import random\n",
    "import matplotlib.pyplot as plt\n",
    "%matplotlib inline"
   ]
  },
  {
   "cell_type": "markdown",
   "metadata": {},
   "source": [
    "###Function for loading the data"
   ]
  },
  {
   "cell_type": "code",
   "execution_count": 3,
   "metadata": {
    "collapsed": false
   },
   "outputs": [],
   "source": [
    "def loadData(name=\"net1.dat\",n=10000):#this function loads the data\n",
    "    entries = list(csv.reader(open(name, 'rb'),delimiter='\\t'))[0:n]\n",
    "    dic={}\n",
    "    for entry in entries:\n",
    "        dic[(entry[0],entry[1])]=entry[2]\n",
    "    dicSingles={}#we create a dictionary where the keys are the\n",
    "    for key in dic.keys():#various words and the items are the \n",
    "        if key[0] in dicSingles.keys():#words connected to the keys\n",
    "            if key[1] not in dicSingles[key[0]]:\n",
    "                dicSingles[key[0]].append(key[1])\n",
    "        else:\n",
    "            dicSingles[key[0]]=[key[1]]\n",
    "\n",
    "        if key[1] in dicSingles.keys():\n",
    "            if key[0] not in dicSingles[key[1]]:\n",
    "                dicSingles[key[1]].append(key[0])\n",
    "        else:\n",
    "            dicSingles[key[1]]=[key[0]] \n",
    "    dicDoubles={}#we create a dictionary where the key is a edge\n",
    "    for key in dicSingles.keys():#and the items are the \n",
    "        for item in dicSingles[key]:#\n",
    "            a=key\n",
    "            b=item\n",
    "            if a>b:\n",
    "                c=a\n",
    "                a=b\n",
    "                b=c \n",
    "            newItems=list(set(dicSingles[a]).intersection(dicSingles[b]))\n",
    "            if (a,b) not in dicDoubles.keys():\n",
    "                    dicDoubles[(a,b)]=newItems\n",
    "    return (dicSingles,dicDoubles)"
   ]
  },
  {
   "cell_type": "markdown",
   "metadata": {},
   "source": [
    "###Function for calculating the average k\n",
    "Here k is the number of incident edges for a given vertex"
   ]
  },
  {
   "cell_type": "code",
   "execution_count": 4,
   "metadata": {
    "collapsed": true
   },
   "outputs": [],
   "source": [
    "def calcKavrg(dicSingles):\n",
    "    tot=0\n",
    "    for item in dicSingles.items():\n",
    "        tot+=len(item[1])\n",
    "    return float(tot)/float(len(dicSingles))"
   ]
  },
  {
   "cell_type": "markdown",
   "metadata": {},
   "source": [
    "###Function for calculating energy of the graph\n",
    "The energy is defined as: $E=\\sum^n_{i=1}(k_i-\\bar{k})^2$ where n is the number of vertices and $\\bar{k}$ is the average k value."
   ]
  },
  {
   "cell_type": "code",
   "execution_count": 5,
   "metadata": {
    "collapsed": false
   },
   "outputs": [],
   "source": [
    "def calcEnergy(dicSingles,kAvg):\n",
    "    tot=0\n",
    "    for item in dicSingles.items():\n",
    "        tot+=pow(len(item[1])-kAvg,2)\n",
    "    return tot"
   ]
  },
  {
   "cell_type": "markdown",
   "metadata": {},
   "source": [
    "###Helper function for organizing keys for edge array"
   ]
  },
  {
   "cell_type": "code",
   "execution_count": 6,
   "metadata": {
    "collapsed": true
   },
   "outputs": [],
   "source": [
    "def reorder(a,b):\n",
    "    if a>b:\n",
    "        c=a\n",
    "        a=b\n",
    "        b=c\n",
    "    return a,b"
   ]
  },
  {
   "cell_type": "markdown",
   "metadata": {},
   "source": [
    "###Function for removing one edge and inserting another edge\n",
    "This is the move T1 discussed in the linked papers.  Visually the move is:\n",
    "<img src=\"T1.png\">"
   ]
  },
  {
   "cell_type": "code",
   "execution_count": 7,
   "metadata": {
    "collapsed": false
   },
   "outputs": [],
   "source": [
    "def makeMove(dicSingles,dicDoubles,oldLink,newLink):\n",
    "    del dicDoubles[oldLink]#delete the link\n",
    "    dicSingles[oldLink[0]].remove(oldLink[1])#remove link\n",
    "    dicSingles[oldLink[1]].remove(oldLink[0])#from the two previously linked nodes\n",
    "    for item in dicSingles[oldLink[0]]:#for one of the old nodes\n",
    "        a=oldLink[0]#remove the link to the third node\n",
    "        b=item\n",
    "        a,b=reorder(a,b)\n",
    "        if (a,b) in dicDoubles.keys():\n",
    "            if oldLink[1] in dicDoubles[(a,b)]:\n",
    "                dicDoubles[(a,b)].remove(oldLink[1])\n",
    "    for item in dicSingles[oldLink[1]]:#same for the other node\n",
    "        a=oldLink[1]\n",
    "        b=item\n",
    "        a,b=reorder(a,b)\n",
    "        if (a,b) in dicDoubles.keys():\n",
    "            if oldLink[0] in dicDoubles[(a,b)]:\n",
    "                dicDoubles[(a,b)].remove(oldLink[0])\n",
    "    #########################################       \n",
    "    dicSingles[newLink[0]].append(newLink[1])#add the new link to the \n",
    "    dicSingles[newLink[1]].append(newLink[0])#individual lists\n",
    "    a=newLink[0]\n",
    "    b=newLink[1]\n",
    "    a,b=reorder(a,b)\n",
    "    newItems=list(set(dicSingles[a]).intersection(dicSingles[b]))\n",
    "    dicDoubles[(a,b)]=newItems#add to the link list and the third connections\n",
    "    for item in dicSingles[newLink[0]]:\n",
    "        a,b=reorder(item,newLink[0])\n",
    "        newItems=list(set(dicSingles[a]).intersection(dicSingles[b]))\n",
    "        dicDoubles[(a,b)]=newItems#add to the link list the any other new connections\n",
    "    for item in dicSingles[newLink[1]]:\n",
    "        a,b=reorder(item,newLink[1])\n",
    "        newItems=list(set(dicSingles[a]).intersection(dicSingles[b]))\n",
    "        dicDoubles[(a,b)]=newItems#same with the other new point      "
   ]
  },
  {
   "cell_type": "markdown",
   "metadata": {},
   "source": [
    "###Function for stepping through the graph to make suggested moves.  \n",
    "This function steps through the graph looking for edges where a T1 move is possible.  If one is found, the change in energy of such a move is calculated ($\\Delta E=2(k_a+k_c-k_b-k_d)+4$) and is accepted with probability $\\frac{1}{1+\\exp{(\\beta \\Delta E)}}(1-\\delta_{k_b,3})(1-\\delta_{k_d,3})(1-\\delta_{a,c})$ where $T=1/\\beta$, a 'temperature' of the system."
   ]
  },
  {
   "cell_type": "code",
   "execution_count": 14,
   "metadata": {
    "collapsed": false
   },
   "outputs": [],
   "source": [
    "def stepThroughGraph(dicSingles,dicDoubles,beta):\n",
    "    totE=0\n",
    "    totMoves=0\n",
    "    oldKeys=dicDoubles.keys()#list of old links\n",
    "    for oldKey in oldKeys:#step through them\n",
    "        oldTriangles=dicDoubles[oldKey]#list of triangles that the link is a part of\n",
    "        if len(dicSingles[oldKey[0]])>3 and len(dicSingles[oldKey[1]])>3 and len(oldTriangles)>1:\n",
    "            for oldTriangleIndex in range(len(oldTriangles)):\n",
    "                r1=random.randrange(0, len(oldTriangles))#randomly select two of the triangles\n",
    "                r2=random.randrange(0, len(oldTriangles))\n",
    "                if r1!=r2:#if they are not the same triangle\n",
    "                    a,b=reorder(oldTriangles[r1],oldTriangles[r2])\n",
    "                    if (a,b) not in dicDoubles.keys():#if the link does not already exist\n",
    "                        ka=len(dicSingles[oldTriangles[r1]])\n",
    "                        kc=len(dicSingles[oldTriangles[r2]])\n",
    "                        kd=len(dicSingles[oldKey[0]])\n",
    "                        kb=len(dicSingles[oldKey[1]])\n",
    "                        deltaE=2*(ka+kc-kd-kb)+4#calc the change in energy\n",
    "                        totE+=deltaE\n",
    "                        if deltaE/beta>200:\n",
    "                            prob=0\n",
    "                        else:    \n",
    "                            prob=1/(1+math.exp(deltaE/beta))\n",
    "                        r=random.random()\n",
    "                        totMoves+=1\n",
    "                        if prob>r:#calc if we make the move\n",
    "                                oldLink=oldKey\n",
    "                                newLink=(oldTriangles[r1],\n",
    "                                        oldTriangles[r2])#make the move\n",
    "                                makeMove(dicSingles,dicDoubles,oldLink,newLink)\n",
    "                                break;#exit the loop\n",
    "    #print float(totE)/float(totMoves)\n",
    "    return totMoves\n"
   ]
  },
  {
   "cell_type": "markdown",
   "metadata": {},
   "source": [
    "###Function for calculating the genus of a given graph"
   ]
  },
  {
   "cell_type": "code",
   "execution_count": 9,
   "metadata": {
    "collapsed": true
   },
   "outputs": [],
   "source": [
    "def calcGenus(dicSingles,dicDoubles):\n",
    "    numVertices=len(dicSingles)\n",
    "    numEdges=len(dicDoubles)\n",
    "    numTriangles=0\n",
    "    for key in dicDoubles.keys():\n",
    "        numTriangles+=len(dicDoubles[key])\n",
    "    return 1-(numVertices-numEdges+numTriangles/3)/2.0"
   ]
  },
  {
   "cell_type": "markdown",
   "metadata": {},
   "source": [
    "###Load the file and calculate the average k and the energy of the system"
   ]
  },
  {
   "cell_type": "code",
   "execution_count": 10,
   "metadata": {
    "collapsed": false
   },
   "outputs": [
    {
     "name": "stdout",
     "output_type": "stream",
     "text": [
      "5.10176017602\n",
      "457570.348735\n"
     ]
    }
   ],
   "source": [
    "dicSingles,dicDoubles=loadData(\"net1.dat\",10000)#load data\n",
    "kAvg=calcKavrg(dicSingles)#calc kAvg\n",
    "print kAvg\n",
    "print calcEnergy(dicSingles,kAvg)"
   ]
  },
  {
   "cell_type": "markdown",
   "metadata": {},
   "source": [
    "###function for calculating the number of vertices, edges, and triangles of a graph"
   ]
  },
  {
   "cell_type": "code",
   "execution_count": 11,
   "metadata": {
    "collapsed": false,
    "scrolled": true
   },
   "outputs": [
    {
     "name": "stdout",
     "output_type": "stream",
     "text": [
      "# vertices 3636\n",
      "# edges 9275\n",
      "# triangles 7062 / 3 = 2354\n",
      "# genus 1643.5\n"
     ]
    }
   ],
   "source": [
    "def CalcVerticesEdgesTrianglesGenus(dicSingles,dicDoubles):\n",
    "    numVertices=len(dicSingles)\n",
    "    numEdges=len(dicDoubles)\n",
    "    numTriangles=0\n",
    "    for key in dicDoubles.keys():\n",
    "        numTriangles+=len(dicDoubles[key])\n",
    "    print \"# vertices\",numVertices\n",
    "    print \"# edges\",numEdges\n",
    "    print \"# triangles\",numTriangles,\"/ 3 =\",numTriangles/3\n",
    "    print \"# genus\",1-(numVertices-numEdges+numTriangles/3)/2.0\n",
    "CalcVerticesEdgesTrianglesGenus(dicSingles,dicDoubles)"
   ]
  },
  {
   "cell_type": "markdown",
   "metadata": {},
   "source": [
    "###running the code for different $\\beta$\n",
    "\n",
    "below is the code for running the simulation with different $\\beta$ values.  Only 50 sweeps through the graph are made because of the long running time (~10min).  "
   ]
  },
  {
   "cell_type": "code",
   "execution_count": 15,
   "metadata": {
    "collapsed": false,
    "scrolled": true
   },
   "outputs": [],
   "source": [
    "betas=['10','1','0.1','0.01','0.001','0.000001']\n",
    "steps=range(50)\n",
    "energyArray={'10':[],'1':[],'0.1':[],'0.01':[],'0.001':[],'0.000001':[]}\n",
    "stepsArray={'10':[],'1':[],'0.1':[],'0.01':[],'0.001':[],'0.000001':[]}\n",
    "for beta in betas:\n",
    "    totSteps=0\n",
    "    dicSingles,dicDoubles=loadData(\"net1.dat\",10000)#load data\n",
    "    for step in steps:\n",
    "        totSteps+=stepThroughGraph(dicSingles,dicDoubles,float(beta))\n",
    "        energyArray[beta].append(calcEnergy(dicSingles,kAvg)/len(dicSingles))\n",
    "        stepsArray[beta].append(totSteps)\n",
    "        #print beta,step,totSteps,calcEnergy(dicSingles,kAvg), calcGenus(dicSingles,dicDoubles)"
   ]
  },
  {
   "cell_type": "markdown",
   "metadata": {},
   "source": [
    "###plot for different betas, evolution of energy versus steps.\n",
    "\n",
    "From the plot below we see that the energy is still decreasing for the $\\beta$'s, most notably for $\\beta=10$."
   ]
  },
  {
   "cell_type": "code",
   "execution_count": 16,
   "metadata": {
    "collapsed": false,
    "scrolled": true
   },
   "outputs": [
    {
     "data": {
      "image/png": "[encoded data removed]",
      "text/plain": [
       "<matplotlib.figure.Figure at 0x10e519e50>"
      ]
     },
     "metadata": {},
     "output_type": "display_data"
    }
   ],
   "source": [
    "for beta in betas:\n",
    "    plt.plot(stepsArray[beta],energyArray[beta],label='beta='+beta)\n",
    "    plt.xlabel('steps')\n",
    "    plt.ylabel('energy')\n",
    "    plt.legend()\n",
    "plt.show()"
   ]
  },
  {
   "cell_type": "markdown",
   "metadata": {},
   "source": [
    "###The final energy versus $\\beta$\n",
    "\n",
    "The final energy decreases for smaller temperatures (larger $\\beta$)."
   ]
  },
  {
   "cell_type": "code",
   "execution_count": 17,
   "metadata": {
    "collapsed": false
   },
   "outputs": [
    {
     "data": {
      "text/plain": [
       "<matplotlib.text.Text at 0x10fcda410>"
      ]
     },
     "execution_count": 17,
     "metadata": {},
     "output_type": "execute_result"
    },
    {
     "data": {
      "image/png": "[encoded data removed]",
      "text/plain": [
       "<matplotlib.figure.Figure at 0x10eed8e50>"
      ]
     },
     "metadata": {},
     "output_type": "display_data"
    }
   ],
   "source": [
    "x=range(len(betas))\n",
    "plt.plot(x,[energyArray[beta][-1] for beta in betas],'o-')\n",
    "plt.xticks(x, betas)\n",
    "plt.xlabel('beta')\n",
    "plt.ylabel('final energy')"
   ]
  },
  {
   "cell_type": "markdown",
   "metadata": {},
   "source": [
    "###Simulated annealing\n",
    "We can also try doing a simulated annealing scheme."
   ]
  },
  {
   "cell_type": "code",
   "execution_count": 18,
   "metadata": {
    "collapsed": false
   },
   "outputs": [],
   "source": [
    "steps=range(300)\n",
    "beta=0.1\n",
    "dicSingles2,dicDoubles2=loadData(\"net1.dat\",10000)#load data\n",
    "energyArray2=[]\n",
    "stepsArray2=[]\n",
    "betaMult=1.05\n",
    "totSteps2=0\n",
    "for step in steps:\n",
    "    totSteps2+=stepThroughGraph(dicSingles2,dicDoubles2,beta)\n",
    "    energyArray2.append(calcEnergy(dicSingles2,kAvg)/len(dicSingles2))\n",
    "    stepsArray2.append(totSteps2)\n",
    "    beta=beta*betaMult\n",
    "    #print step,beta,totSteps2,calcEnergy(dicSingles2,kAvg)/len(dicSingles2), calcGenus(dicSingles2,dicDoubles2)"
   ]
  },
  {
   "cell_type": "code",
   "execution_count": 19,
   "metadata": {
    "collapsed": false
   },
   "outputs": [
    {
     "data": {
      "text/plain": [
       "<matplotlib.text.Text at 0x10e30ba50>"
      ]
     },
     "execution_count": 19,
     "metadata": {},
     "output_type": "execute_result"
    },
    {
     "data": {
      "image/png": "[encoded data removed]",
      "text/plain": [
       "<matplotlib.figure.Figure at 0x10ed9dcd0>"
      ]
     },
     "metadata": {},
     "output_type": "display_data"
    }
   ],
   "source": [
    "plt.plot(stepsArray2,energyArray2)\n",
    "plt.xlabel('steps')\n",
    "plt.ylabel('energy')"
   ]
  },
  {
   "cell_type": "markdown",
   "metadata": {},
   "source": [
    "###Dataset 2\n",
    "We can do a similar analysis on the second data set:"
   ]
  },
  {
   "cell_type": "code",
   "execution_count": 20,
   "metadata": {
    "collapsed": true
   },
   "outputs": [],
   "source": [
    "betas=['10','1','0.1','0.01','0.001','0.000001']\n",
    "steps=range(50)\n",
    "energyArray={'10':[],'1':[],'0.1':[],'0.01':[],'0.001':[],'0.000001':[]}\n",
    "stepsArray={'10':[],'1':[],'0.1':[],'0.01':[],'0.001':[],'0.000001':[]}\n",
    "for beta in betas:\n",
    "    totSteps=0\n",
    "    dicSingles,dicDoubles=loadData(\"net2.dat\",10000)#load data\n",
    "    for step in steps:\n",
    "        totSteps+=stepThroughGraph(dicSingles,dicDoubles,float(beta))\n",
    "        energyArray[beta].append(calcEnergy(dicSingles,kAvg)/len(dicSingles))\n",
    "        stepsArray[beta].append(totSteps)\n"
   ]
  },
  {
   "cell_type": "code",
   "execution_count": 21,
   "metadata": {
    "collapsed": false
   },
   "outputs": [
    {
     "data": {
      "image/png": "[encoded data removed]",
      "text/plain": [
       "<matplotlib.figure.Figure at 0x10f9edc90>"
      ]
     },
     "metadata": {},
     "output_type": "display_data"
    },
    {
     "data": {
      "image/png": "[encoded data removed]",
      "text/plain": [
       "<matplotlib.figure.Figure at 0x10ea1cf10>"
      ]
     },
     "metadata": {},
     "output_type": "display_data"
    }
   ],
   "source": [
    "for beta in betas:\n",
    "    plt.plot(stepsArray[beta],energyArray[beta],label='beta='+beta)\n",
    "    plt.xlabel('steps')\n",
    "    plt.ylabel('energy')\n",
    "    plt.legend()\n",
    "plt.show()\n",
    "\n",
    "x=range(len(betas))\n",
    "plt.plot(x,[energyArray[beta][-1] for beta in betas],'o-')\n",
    "plt.xticks(x, betas)\n",
    "plt.xlabel('beta')\n",
    "plt.ylabel('final energy')\n",
    "plt.show()"
   ]
  },
  {
   "cell_type": "code",
   "execution_count": 22,
   "metadata": {
    "collapsed": true
   },
   "outputs": [],
   "source": [
    "steps=range(300)\n",
    "beta=0.1\n",
    "dicSingles2,dicDoubles2=loadData(\"net2.dat\",10000)#load data\n",
    "energyArray2=[]\n",
    "stepsArray2=[]\n",
    "betaMult=1.05\n",
    "totSteps2=0\n",
    "for step in steps:\n",
    "    totSteps2+=stepThroughGraph(dicSingles2,dicDoubles2,beta)\n",
    "    energyArray2.append(calcEnergy(dicSingles2,kAvg)/len(dicSingles2))\n",
    "    stepsArray2.append(totSteps2)\n",
    "    beta=beta*betaMult"
   ]
  },
  {
   "cell_type": "code",
   "execution_count": 23,
   "metadata": {
    "collapsed": false
   },
   "outputs": [
    {
     "data": {
      "text/plain": [
       "<matplotlib.text.Text at 0x10faa6b10>"
      ]
     },
     "execution_count": 23,
     "metadata": {},
     "output_type": "execute_result"
    },
    {
     "data": {
      "image/png": "[encoded data removed]",
      "text/plain": [
       "<matplotlib.figure.Figure at 0x10b1a0190>"
      ]
     },
     "metadata": {},
     "output_type": "display_data"
    }
   ],
   "source": [
    "plt.plot(stepsArray2,energyArray2)\n",
    "plt.xlabel('steps')\n",
    "plt.ylabel('energy')"
   ]
  },
  {
   "cell_type": "markdown",
   "metadata": {
    "collapsed": true
   },
   "source": [
    "###Conclusions\n",
    "\n",
    "A statistical physics framework can be used to decrease the number of edges in a graph by means of a temperature.  This has important implications for information filtering. \n",
    "\n",
    "Further, one can use common techniques such as simulated annealing, parallel tempering (e.g. http://people.math.umass.edu/~rsellis/pdf-files/parallel-tempering-paper.pdf), or perhaps a modified diffusion monte carlo method (e.g. http://arxiv.org/pdf/physics/9702023v1.pdf).\n",
    "\n",
    "Overall, I was limited by the memory on my laptop.  One solution to this would be using a AWS machine to do my work.\n",
    "\n",
    "Further this work could also be parallelized using C++ MPI library.  In genral, the algorithms will run faster if implemented in C++ or C.  The data could be divided up into clusters and processed on seperate cores."
   ]
  }
 ],
 "metadata": {
  "kernelspec": {
   "display_name": "Python 2",
   "language": "python",
   "name": "python2"
  },
  "language_info": {
   "codemirror_mode": {
    "name": "ipython",
    "version": 2
   },
   "file_extension": ".py",
   "mimetype": "text/x-python",
   "name": "python",
   "nbconvert_exporter": "python",
   "pygments_lexer": "ipython2",
   "version": "2.7.8"
  }
 },
 "nbformat": 4,
 "nbformat_minor": 0
}
