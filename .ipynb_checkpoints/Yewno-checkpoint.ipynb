{
 "cells": [
  {
   "cell_type": "code",
   "execution_count": null,
   "metadata": {
    "collapsed": true
   },
   "outputs": [],
   "source": [
    "import csv\n",
    "import math\n",
    "import random"
   ]
  },
  {
   "cell_type": "code",
   "execution_count": 298,
   "metadata": {
    "collapsed": false
   },
   "outputs": [],
   "source": [
    "def loadData(name=\"net1.dat\",n=10000)\n",
    "    entries = list(csv.reader(open(name, 'rb'),delimiter='\\t'))[0:n]\n",
    "    dic={}\n",
    "    for entry in entries:\n",
    "        dic[(entry[0],entry[1])]=entry[2]\n",
    "    dicSingles={}\n",
    "    for key in dic.keys():\n",
    "        if key[0] in dicSingles.keys():\n",
    "            if key[1] not in dicSingles[key[0]]:\n",
    "                dicSingles[key[0]].append(key[1])\n",
    "        else:\n",
    "            dicSingles[key[0]]=[key[1]]\n",
    "\n",
    "        if key[1] in dicSingles.keys():\n",
    "            if key[0] not in dicSingles[key[1]]:\n",
    "                dicSingles[key[1]].append(key[0])\n",
    "        else:\n",
    "            dicSingles[key[1]]=[key[0]] \n",
    "    dicDoubles={}\n",
    "    for key in dicSingles.keys():\n",
    "        for item in dicSingles[key]:\n",
    "            a=key\n",
    "            b=item\n",
    "            if a>b:\n",
    "                c=a\n",
    "                a=b\n",
    "                b=c \n",
    "            newItems=list(set(dicSingles[a]).intersection(dicSingles[b]))\n",
    "            if newItems:\n",
    "                if (a,b) not in dicDoubles.keys():\n",
    "                    dicDoubles[(a,b)]=newItems\n",
    "    return (dicSingles,dicDoubles)"
   ]
  },
  {
   "cell_type": "code",
   "execution_count": 51,
   "metadata": {
    "collapsed": true
   },
   "outputs": [],
   "source": [
    "def calcKavrg(dicSingles):\n",
    "    tot=0\n",
    "    for item in dicSingles.items():\n",
    "        tot+=len(item[1])\n",
    "    return float(tot)/float(len(dicSingles))"
   ]
  },
  {
   "cell_type": "code",
   "execution_count": 54,
   "metadata": {
    "collapsed": false
   },
   "outputs": [
    {
     "name": "stdout",
     "output_type": "stream",
     "text": [
      "2.43605359318\n"
     ]
    }
   ],
   "source": [
    "kAvg=calcKavrg(dicSingles)\n",
    "print kAvg"
   ]
  },
  {
   "cell_type": "code",
   "execution_count": 55,
   "metadata": {
    "collapsed": false
   },
   "outputs": [],
   "source": [
    "def calcEnergy(dicSingles,kAvg):\n",
    "    tot=0\n",
    "    for item in dicSingles.items():\n",
    "        tot+=pow(len(item[1])-kAvg,2)\n",
    "    return tot"
   ]
  },
  {
   "cell_type": "code",
   "execution_count": 56,
   "metadata": {
    "collapsed": false
   },
   "outputs": [
    {
     "data": {
      "text/plain": [
       "49641.89281364236"
      ]
     },
     "execution_count": 56,
     "metadata": {},
     "output_type": "execute_result"
    }
   ],
   "source": [
    "calcEnergy(dicSingles,kAvg)"
   ]
  },
  {
   "cell_type": "code",
   "execution_count": 202,
   "metadata": {
    "collapsed": true
   },
   "outputs": [],
   "source": [
    "def reorder(a,b):\n",
    "    if a>b:\n",
    "        c=a\n",
    "        a=b\n",
    "        b=c\n",
    "    return a,b"
   ]
  },
  {
   "cell_type": "code",
   "execution_count": 268,
   "metadata": {
    "collapsed": false
   },
   "outputs": [],
   "source": [
    "def makeMove(dicSingles,dicDoubles,oldLink,newLink):\n",
    "    del dicDoubles[oldLink]#delete the link\n",
    "    dicSingles[oldLink[0]].remove(oldLink[1])#remove link\n",
    "    dicSingles[oldLink[1]].remove(oldLink[0])#from the two previously linked nodes\n",
    "    for item in dicSingles[oldLink[0]]:#for one of the old nodes\n",
    "        a=oldLink[0]#remove the link to the third node\n",
    "        b=item\n",
    "        a,b=reorder(a,b)\n",
    "        if (a,b) in dicDoubles.keys():\n",
    "            if oldLink[1] in dicDoubles[(a,b)]:\n",
    "                dicDoubles[(a,b)].remove(oldLink[1])\n",
    "    for item in dicSingles[oldLink[1]]:#same for the other node\n",
    "        a=oldLink[1]\n",
    "        b=item\n",
    "        a,b=reorder(a,b)\n",
    "        if (a,b) in dicDoubles.keys():\n",
    "            if oldLink[0] in dicDoubles[(a,b)]:\n",
    "                dicDoubles[(a,b)].remove(oldLink[0])\n",
    "    #########################################       \n",
    "    dicSingles[newLink[0]].append(newLink[1])#add the new link to the \n",
    "    dicSingles[newLink[1]].append(newLink[0])#individual lists\n",
    "    a=newLink[0]\n",
    "    b=newLink[1]\n",
    "    a,b=reorder(a,b)\n",
    "    newItems=list(set(dicSingles[a]).intersection(dicSingles[b]))\n",
    "    dicDoubles[(a,b)]=newItems#add to the link list and the third connections\n",
    "    for item in dicSingles[newLink[0]]:\n",
    "        a,b=reorder(item,newLink[0])\n",
    "        newItems=list(set(dicSingles[a]).intersection(dicSingles[b]))\n",
    "        dicDoubles[(a,b)]=newItems#add to the link list the any other new connections\n",
    "    for item in dicSingles[newLink[1]]:\n",
    "        a,b=reorder(item,newLink[1])\n",
    "        newItems=list(set(dicSingles[a]).intersection(dicSingles[b]))\n",
    "        dicDoubles[(a,b)]=newItems#same with the other new point      "
   ]
  },
  {
   "cell_type": "code",
   "execution_count": 305,
   "metadata": {
    "collapsed": true
   },
   "outputs": [],
   "source": [
    "beta=1\n",
    "steps=range(30)"
   ]
  },
  {
   "cell_type": "code",
   "execution_count": 306,
   "metadata": {
    "collapsed": false
   },
   "outputs": [
    {
     "name": "stdout",
     "output_type": "stream",
     "text": [
      "0 87.6830951982\n",
      "1 87.6808949782\n",
      "2 87.6819950882\n",
      "3 87.6847453633\n",
      "4 87.6808949782\n",
      "5 87.6803449232\n",
      "6 87.6786947582\n",
      "7 87.6759444832\n",
      "8 87.6803449232\n",
      "9 87.6781447032\n",
      "10 87.6748443732\n",
      "11 87.6720940981\n",
      "12 87.6759444832\n",
      "13 87.6759444832\n",
      "14 87.6781447032\n",
      "15 87.6781447032\n",
      "16 87.6759444832\n",
      "17 87.6704439331\n",
      "18 87.6731942081\n",
      "19 87.6731942081\n",
      "20 87.6770445932\n",
      "21 87.5769345822\n",
      "22 87.5769345822\n",
      "23 87.5747343622\n",
      "24 87.5741843072\n",
      "25 87.5752844172\n",
      "26 87.5752844172\n",
      "27 87.5653834271\n",
      "28 87.5301799067\n",
      "29 87.5329301817\n"
     ]
    }
   ],
   "source": [
    "for step in steps:\n",
    "    oldKeys=dicDoubles.keys()\n",
    "    for oldKey in oldKeys:\n",
    "        oldTriangles=dicDoubles[oldKey]\n",
    "        #print oldKey\n",
    "        if len(dicSingles[oldKey[0]])>3 and len(dicSingles[oldKey[1]])>3 and len(oldTriangles)>1:\n",
    "            for oldTriangleIndex in range(len(oldTriangles)):\n",
    "                r1=random.randrange(0, len(oldTriangles))\n",
    "                r2=random.randrange(0, len(oldTriangles))\n",
    "                if r1!=r2:\n",
    "                    ka=len(dicSingles[oldTriangles[r1]])\n",
    "                    kc=len(dicSingles[oldTriangles[r2]])\n",
    "                    kd=len(dicSingles[oldKey[0]])\n",
    "                    kb=len(dicSingles[oldKey[1]])\n",
    "                    deltaE=2*(ka+kc-kd-kb)+4\n",
    "                    if deltaE/beta>200:\n",
    "                        prob=0\n",
    "                    else:    \n",
    "                        prob=1/(1+math.exp(deltaE/beta))\n",
    "                    r=random.random()\n",
    "                    if prob>r:\n",
    "                            oldLink=oldKey\n",
    "                            newLink=(oldTriangles[r1],\n",
    "                                    oldTriangles[r2])\n",
    "                            makeMove(dicSingles,dicDoubles,oldLink,newLink)\n",
    "                            break;\n",
    "\n",
    "    print step,calcEnergy(dicSingles,kAvg)/len(dicSingles)\n"
   ]
  },
  {
   "cell_type": "code",
   "execution_count": 84,
   "metadata": {
    "collapsed": false
   },
   "outputs": [
    {
     "data": {
      "text/plain": [
       "49641.89281364236"
      ]
     },
     "execution_count": 84,
     "metadata": {},
     "output_type": "execute_result"
    }
   ],
   "source": [
    "dicSingles,dicDoubles=loadData()\n",
    "calcEnergy(dicSingles,kAvg)"
   ]
  },
  {
   "cell_type": "code",
   "execution_count": 220,
   "metadata": {
    "collapsed": false
   },
   "outputs": [
    {
     "data": {
      "text/plain": [
       "48508.869671133216"
      ]
     },
     "execution_count": 220,
     "metadata": {},
     "output_type": "execute_result"
    }
   ],
   "source": [
    "calcEnergy(dicSingles,kAvg)"
   ]
  },
  {
   "cell_type": "code",
   "execution_count": 307,
   "metadata": {
    "collapsed": false
   },
   "outputs": [
    {
     "name": "stdout",
     "output_type": "stream",
     "text": [
      "# vertices 3636\n",
      "# edges 6775\n",
      "# triangles 2793 / 3 = 931\n",
      "# genus 1105\n"
     ]
    }
   ],
   "source": [
    "def CalcVerticesEdgesTrianglesGenus(dicSingles,dicDoubles):\n",
    "    numVertices=len(dicSingles)\n",
    "    numEdges=len(dicDoubles)\n",
    "    numTriangles=0\n",
    "    for key in dicDoubles.keys():\n",
    "        numTriangles+=len(dicDoubles[key])\n",
    "    print \"# vertices\",numVertices\n",
    "    print \"# edges\",numEdges\n",
    "    print \"# triangles\",numTriangles,\"/ 3 =\",numTriangles/3\n",
    "    print \"# genus\", 1-(numVertices-numEdges+numTriangles/3)/2\n",
    "CalcVerticesEdgesTrianglesGenus(dicSingles,dicDoubles)"
   ]
  },
  {
   "cell_type": "code",
   "execution_count": null,
   "metadata": {
    "collapsed": true
   },
   "outputs": [],
   "source": []
  }
 ],
 "metadata": {
  "kernelspec": {
   "display_name": "Python 2",
   "language": "python",
   "name": "python2"
  },
  "language_info": {
   "codemirror_mode": {
    "name": "ipython",
    "version": 2
   },
   "file_extension": ".py",
   "mimetype": "text/x-python",
   "name": "python",
   "nbconvert_exporter": "python",
   "pygments_lexer": "ipython2",
   "version": "2.7.8"
  }
 },
 "nbformat": 4,
 "nbformat_minor": 0
}
