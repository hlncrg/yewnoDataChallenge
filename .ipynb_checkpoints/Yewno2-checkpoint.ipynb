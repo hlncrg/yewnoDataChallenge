{
 "cells": [
  {
   "cell_type": "code",
   "execution_count": 28,
   "metadata": {
    "collapsed": true
   },
   "outputs": [],
   "source": [
    "import csv\n",
    "import math\n",
    "import random\n",
    "import matplotlib.pyplot as plt\n",
    "%matplotlib inline"
   ]
  },
  {
   "cell_type": "code",
   "execution_count": 29,
   "metadata": {
    "collapsed": true
   },
   "outputs": [],
   "source": [
    "def reorder(a,b):\n",
    "    if a>b:\n",
    "        c=a\n",
    "        a=b\n",
    "        b=c\n",
    "    return a,b"
   ]
  },
  {
   "cell_type": "code",
   "execution_count": 30,
   "metadata": {
    "collapsed": false
   },
   "outputs": [],
   "source": [
    "def loadData(name):#this function loads the data\n",
    "    entries = list(csv.reader(open(name, 'rb'),delimiter='\\t'))\n",
    "    dic={}\n",
    "    for entry in entries:\n",
    "        dic[(entry[0],entry[1])]=entry[2]\n",
    "    dicSingles={}#we create a dictionary where the keys are the\n",
    "    for key in dic.keys():#various words and the items are the \n",
    "        if key[0] in dicSingles.keys():#words connected to the keys\n",
    "            if key[1] not in dicSingles[key[0]]:\n",
    "                dicSingles[key[0]].append(key[1])\n",
    "        else:\n",
    "            dicSingles[key[0]]=[key[1]]\n",
    "\n",
    "        if key[1] in dicSingles.keys():\n",
    "            if key[0] not in dicSingles[key[1]]:\n",
    "                dicSingles[key[1]].append(key[0])\n",
    "        else:\n",
    "            dicSingles[key[1]]=[key[0]]\n",
    "            \n",
    "    dicDoubles={}#we create a dictionary where the key is a edge\n",
    "    for key in dicSingles.keys():#and the items are the \n",
    "        for item in dicSingles[key]:#\n",
    "            a,b=reorder(key,item)\n",
    "            newItems=list(set(dicSingles[a]).intersection(dicSingles[b]))\n",
    "            if (a,b) not in dicDoubles.keys():\n",
    "                    dicDoubles[(a,b)]=newItems\n",
    "    return (dicSingles,dicDoubles)"
   ]
  },
  {
   "cell_type": "code",
   "execution_count": 24,
   "metadata": {
    "collapsed": false
   },
   "outputs": [],
   "source": [
    "def pruneData(dicSingles,dicDoubles,keepList):\n",
    "    dicSingles2={}\n",
    "    keepList2=[]\n",
    "    for item in keepList:\n",
    "        keepList2.append(item)\n",
    "    for i in keepList:\n",
    "        print 'keeplist',len(keepList)\n",
    "        for j in keepList:\n",
    "            if i!=j:\n",
    "                a,b=reorder(i,j)\n",
    "                if (a,b) in dicDoubles.keys():\n",
    "                    for item in dicDoubles[(a,b)]:\n",
    "                        if item not in keepList2:\n",
    "                            keepList2.append(item)\n",
    "    print len(keepList2)\n",
    "    dicSingles2={}\n",
    "    for i in keepList2:\n",
    "        for item in dicSingles[i]:\n",
    "            if item in keepList2:\n",
    "                if i in dicSingles2.keys():\n",
    "                    dicSingles2[i].append(item)\n",
    "                else:\n",
    "                    dicSingles2[i]=[item]\n",
    "    print 'double'                \n",
    "    dicDoubles2={}#we create a dictionary where the key is a edge\n",
    "    for key in dicSingles2.keys():#and the items are the \n",
    "        for item in dicSingles2[key]:#\n",
    "            a,b=reorder(key,item)\n",
    "            newItems=list(set(dicSingles2[a]).intersection(dicSingles2[b]))\n",
    "            if (a,b) not in dicDoubles2.keys():\n",
    "                    dicDoubles2[(a,b)]=newItems\n",
    "    return dicSingles2,dicDoubles2"
   ]
  },
  {
   "cell_type": "code",
   "execution_count": 5,
   "metadata": {
    "collapsed": false
   },
   "outputs": [],
   "source": [
    "dicSingles,dicDoubles=loadData(\"net1.dat\")#load data"
   ]
  },
  {
   "cell_type": "code",
   "execution_count": 20,
   "metadata": {
    "collapsed": true
   },
   "outputs": [],
   "source": [
    "keepList=['morgan_stanley',\n",
    "          'jp_morgan',\n",
    "         'lehman_brothers',\n",
    "         'archer_daniels',\n",
    "         'pecoriello',\n",
    "         'crescent',\n",
    "         'midland',\n",
    "         'fell',\n",
    "         'citigroup',\n",
    "         'rights',\n",
    "         'inflation',\n",
    "         'meredith',\n",
    "         'severn_trent',\n",
    "         'wall_street',\n",
    "         'asset_management',\n",
    "         'oppenheimer',\n",
    "         'thomson',\n",
    "         'fifth_third_bancorp'\n",
    "         ]"
   ]
  },
  {
   "cell_type": "code",
   "execution_count": 25,
   "metadata": {
    "collapsed": false
   },
   "outputs": [
    {
     "name": "stdout",
     "output_type": "stream",
     "text": [
      "keeplist 18\n",
      "keeplist 18\n",
      "keeplist 18\n",
      "keeplist 18\n",
      "keeplist 18\n",
      "keeplist 18\n",
      "keeplist 18\n",
      "keeplist 18\n",
      "keeplist 18\n",
      "keeplist 18\n",
      "keeplist 18\n",
      "keeplist 18\n",
      "keeplist 18\n",
      "keeplist 18\n",
      "keeplist 18\n",
      "keeplist 18\n",
      "keeplist 18\n",
      "keeplist 18\n",
      "158\n",
      "double\n"
     ]
    }
   ],
   "source": [
    "dicSingles2,dicDoubles2=pruneData(dicSingles,dicDoubles,keepList)"
   ]
  },
  {
   "cell_type": "code",
   "execution_count": 27,
   "metadata": {
    "collapsed": false
   },
   "outputs": [
    {
     "data": {
      "text/plain": [
       "1470"
      ]
     },
     "execution_count": 27,
     "metadata": {},
     "output_type": "execute_result"
    }
   ],
   "source": [
    "len(dicDoubles2)"
   ]
  },
  {
   "cell_type": "code",
   "execution_count": null,
   "metadata": {
    "collapsed": true
   },
   "outputs": [],
   "source": []
  }
 ],
 "metadata": {
  "kernelspec": {
   "display_name": "Python 2",
   "language": "python",
   "name": "python2"
  },
  "language_info": {
   "codemirror_mode": {
    "name": "ipython",
    "version": 2
   },
   "file_extension": ".py",
   "mimetype": "text/x-python",
   "name": "python",
   "nbconvert_exporter": "python",
   "pygments_lexer": "ipython2",
   "version": "2.7.8"
  }
 },
 "nbformat": 4,
 "nbformat_minor": 0
}
